{
 "cells": [
  {
   "cell_type": "markdown",
   "id": "9713c88b",
   "metadata": {},
   "source": [
    "# Automatizando Processos"
   ]
  },
  {
   "cell_type": "code",
   "execution_count": 1,
   "id": "a7fd6631",
   "metadata": {},
   "outputs": [],
   "source": [
    "import pandas as pd"
   ]
  },
  {
   "cell_type": "code",
   "execution_count": 2,
   "id": "b2200352",
   "metadata": {},
   "outputs": [],
   "source": [
    "planilha_1 = pd.read_excel('planilha_1.xlsx')\n",
    "planilha_2 = pd.read_excel('planilha_2.xlsx', sheet_name = 'teste')"
   ]
  },
  {
   "cell_type": "code",
   "execution_count": 3,
   "id": "19ad7aac",
   "metadata": {},
   "outputs": [],
   "source": [
    "planilha_1_2 = pd.merge(planilha_1, planilha_2, on = 'nome', how = 'inner')"
   ]
  },
  {
   "cell_type": "code",
   "execution_count": 4,
   "id": "fef9b9b7",
   "metadata": {},
   "outputs": [],
   "source": [
    "resultado = planilha_1_2[['n rg_x', 'nome', 'atendimento_x', 'local_x', 'data_x','atendimento_y', 'data_y']]"
   ]
  },
  {
   "cell_type": "code",
   "execution_count": 5,
   "id": "fa9ec40e",
   "metadata": {},
   "outputs": [],
   "source": [
    "colunas = {'n rg': 'RG','nome' : 'Nome', \n",
    "           'atendimento_x':'Atendimento', 'local_x': 'Local',\n",
    "           'data_x':'Data','atendimento_y': '2° Atendimento', 'data_y':'2ª data'}"
   ]
  },
  {
   "cell_type": "code",
   "execution_count": 6,
   "id": "c2c648fb",
   "metadata": {},
   "outputs": [],
   "source": [
    "resultado = resultado.rename(columns = colunas)"
   ]
  },
  {
   "cell_type": "code",
   "execution_count": 7,
   "id": "9235281a",
   "metadata": {},
   "outputs": [],
   "source": [
    "resultado.to_excel('resultado.xlsx', index = False,)"
   ]
  }
 ],
 "metadata": {
  "kernelspec": {
   "display_name": "Python 3 (ipykernel)",
   "language": "python",
   "name": "python3"
  },
  "language_info": {
   "codemirror_mode": {
    "name": "ipython",
    "version": 3
   },
   "file_extension": ".py",
   "mimetype": "text/x-python",
   "name": "python",
   "nbconvert_exporter": "python",
   "pygments_lexer": "ipython3",
   "version": "3.9.7"
  }
 },
 "nbformat": 4,
 "nbformat_minor": 5
}
